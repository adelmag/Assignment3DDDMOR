{
 "cells": [
  {
   "cell_type": "code",
   "execution_count": 1,
   "metadata": {},
   "outputs": [],
   "source": [
    "\n",
    "#QUESTION a):\n",
    "\n",
    "'''\n",
    "GILS implements the greedy iterated least squares price policy.\n",
    "The INPUTS are as follows:\n",
    "\n",
    "1) b_1, b_2, b_3, b_4 (floats): the bounds for the paramaters of the demand function, i.e.\n",
    "0 <= b_1 <= theta_1 <= b_2 AND b_3 <= theta_3 <= b_4 <= 0.\n",
    "\n",
    "2) min_p, max_p (floats): the bounds for the true price.\n",
    "\n",
    "3) t (int): time stamp.\n",
    "\n",
    "3) h (array of 2-tuples): the history of prices and demands up to time t. Namely:\n",
    "h = [(p_1,d_1); (p_2,d_2); . . . ; (p_t,d_t)].\n",
    "\n",
    "The OUTPUT is p_{t+1} (int), the price chosen by GILS for the next time stamp.\n",
    "'''\n",
    "\n",
    "def GILS(b_1, b_2, b_3, b_4, min_p, max_p, t, h):\n",
    "    \"Not implemented\"\n",
    "    return False\n",
    "\n",
    "'''\n",
    "CILS implements the constrained iterated least squares price policy. The INPUTS are\n",
    "the same as for GILS with the threshold paramter K (float) added. OUTPUT is also p_{t+1}\n",
    "'''\n",
    "\n",
    "def CILS(b_1, b_2, b_3, b_4, min_p, max_p, t, h, K):\n",
    "    \"Not implemented\"\n",
    "    return False\n",
    "\n",
    "\n",
    "\n"
   ]
  }
 ],
 "metadata": {
  "kernelspec": {
   "display_name": "Python 3",
   "language": "python",
   "name": "python3"
  },
  "language_info": {
   "codemirror_mode": {
    "name": "ipython",
    "version": 3
   },
   "file_extension": ".py",
   "mimetype": "text/x-python",
   "name": "python",
   "nbconvert_exporter": "python",
   "pygments_lexer": "ipython3",
   "version": "3.7.6"
  }
 },
 "nbformat": 4,
 "nbformat_minor": 4
}
